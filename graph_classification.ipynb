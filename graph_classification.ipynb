{
  "nbformat": 4,
  "nbformat_minor": 0,
  "metadata": {
    "colab": {
      "name": "graph_classification.ipynb",
      "provenance": [],
      "collapsed_sections": [],
      "include_colab_link": true
    },
    "kernelspec": {
      "name": "python3",
      "display_name": "Python 3"
    },
    "accelerator": "GPU"
  },
  "cells": [
    {
      "cell_type": "markdown",
      "metadata": {
        "id": "view-in-github",
        "colab_type": "text"
      },
      "source": [
        "<a href=\"https://colab.research.google.com/github/iamnotahumanbecauseiamabot/graphs/blob/master/graph_classification.ipynb\" target=\"_parent\"><img src=\"https://colab.research.google.com/assets/colab-badge.svg\" alt=\"Open In Colab\"/></a>"
      ]
    },
    {
      "cell_type": "code",
      "metadata": {
        "id": "bZTqdFhHSEnE",
        "colab_type": "code",
        "outputId": "ca7bd2bb-7851-4ee1-8f0d-36bd4c3bb0b6",
        "colab": {
          "base_uri": "https://localhost:8080/",
          "height": 201
        }
      },
      "source": [
        "!pip install dgl\n",
        "#!pip install torch_geometric\n",
        "#!pip install torch_sparse\n",
        "#!pip install torch_scatter\n",
        "#!pip install torch_cluster"
      ],
      "execution_count": 0,
      "outputs": [
        {
          "output_type": "stream",
          "text": [
            "Collecting dgl\n",
            "\u001b[?25l  Downloading https://files.pythonhosted.org/packages/e4/ba/d15ce7fb56958f21d4e9815f96344d92c4982f3fb933a0e987e78cb787e5/dgl-0.4.1-cp36-cp36m-manylinux1_x86_64.whl (2.4MB)\n",
            "\r\u001b[K     |▏                               | 10kB 26.3MB/s eta 0:00:01\r\u001b[K     |▎                               | 20kB 6.1MB/s eta 0:00:01\r\u001b[K     |▍                               | 30kB 8.6MB/s eta 0:00:01\r\u001b[K     |▋                               | 40kB 5.7MB/s eta 0:00:01\r\u001b[K     |▊                               | 51kB 6.9MB/s eta 0:00:01\r\u001b[K     |▉                               | 61kB 8.2MB/s eta 0:00:01\r\u001b[K     |█                               | 71kB 9.4MB/s eta 0:00:01\r\u001b[K     |█▏                              | 81kB 10.5MB/s eta 0:00:01\r\u001b[K     |█▎                              | 92kB 11.7MB/s eta 0:00:01\r\u001b[K     |█▍                              | 102kB 9.2MB/s eta 0:00:01\r\u001b[K     |█▌                              | 112kB 9.2MB/s eta 0:00:01\r\u001b[K     |█▊                              | 122kB 9.2MB/s eta 0:00:01\r\u001b[K     |█▉                              | 133kB 9.2MB/s eta 0:00:01\r\u001b[K     |██                              | 143kB 9.2MB/s eta 0:00:01\r\u001b[K     |██                              | 153kB 9.2MB/s eta 0:00:01\r\u001b[K     |██▎                             | 163kB 9.2MB/s eta 0:00:01\r\u001b[K     |██▍                             | 174kB 9.2MB/s eta 0:00:01\r\u001b[K     |██▌                             | 184kB 9.2MB/s eta 0:00:01\r\u001b[K     |██▋                             | 194kB 9.2MB/s eta 0:00:01\r\u001b[K     |██▉                             | 204kB 9.2MB/s eta 0:00:01\r\u001b[K     |███                             | 215kB 9.2MB/s eta 0:00:01\r\u001b[K     |███                             | 225kB 9.2MB/s eta 0:00:01\r\u001b[K     |███▏                            | 235kB 9.2MB/s eta 0:00:01\r\u001b[K     |███▍                            | 245kB 9.2MB/s eta 0:00:01\r\u001b[K     |███▌                            | 256kB 9.2MB/s eta 0:00:01\r\u001b[K     |███▋                            | 266kB 9.2MB/s eta 0:00:01\r\u001b[K     |███▊                            | 276kB 9.2MB/s eta 0:00:01\r\u001b[K     |████                            | 286kB 9.2MB/s eta 0:00:01\r\u001b[K     |████                            | 296kB 9.2MB/s eta 0:00:01\r\u001b[K     |████▏                           | 307kB 9.2MB/s eta 0:00:01\r\u001b[K     |████▎                           | 317kB 9.2MB/s eta 0:00:01\r\u001b[K     |████▌                           | 327kB 9.2MB/s eta 0:00:01\r\u001b[K     |████▋                           | 337kB 9.2MB/s eta 0:00:01\r\u001b[K     |████▊                           | 348kB 9.2MB/s eta 0:00:01\r\u001b[K     |████▉                           | 358kB 9.2MB/s eta 0:00:01\r\u001b[K     |█████                           | 368kB 9.2MB/s eta 0:00:01\r\u001b[K     |█████▏                          | 378kB 9.2MB/s eta 0:00:01\r\u001b[K     |█████▎                          | 389kB 9.2MB/s eta 0:00:01\r\u001b[K     |█████▍                          | 399kB 9.2MB/s eta 0:00:01\r\u001b[K     |█████▋                          | 409kB 9.2MB/s eta 0:00:01\r\u001b[K     |█████▊                          | 419kB 9.2MB/s eta 0:00:01\r\u001b[K     |█████▉                          | 430kB 9.2MB/s eta 0:00:01\r\u001b[K     |██████                          | 440kB 9.2MB/s eta 0:00:01\r\u001b[K     |██████▏                         | 450kB 9.2MB/s eta 0:00:01\r\u001b[K     |██████▎                         | 460kB 9.2MB/s eta 0:00:01\r\u001b[K     |██████▍                         | 471kB 9.2MB/s eta 0:00:01\r\u001b[K     |██████▌                         | 481kB 9.2MB/s eta 0:00:01\r\u001b[K     |██████▊                         | 491kB 9.2MB/s eta 0:00:01\r\u001b[K     |██████▉                         | 501kB 9.2MB/s eta 0:00:01\r\u001b[K     |███████                         | 512kB 9.2MB/s eta 0:00:01\r\u001b[K     |███████                         | 522kB 9.2MB/s eta 0:00:01\r\u001b[K     |███████▎                        | 532kB 9.2MB/s eta 0:00:01\r\u001b[K     |███████▍                        | 542kB 9.2MB/s eta 0:00:01\r\u001b[K     |███████▌                        | 552kB 9.2MB/s eta 0:00:01\r\u001b[K     |███████▋                        | 563kB 9.2MB/s eta 0:00:01\r\u001b[K     |███████▉                        | 573kB 9.2MB/s eta 0:00:01\r\u001b[K     |████████                        | 583kB 9.2MB/s eta 0:00:01\r\u001b[K     |████████                        | 593kB 9.2MB/s eta 0:00:01\r\u001b[K     |████████▎                       | 604kB 9.2MB/s eta 0:00:01\r\u001b[K     |████████▍                       | 614kB 9.2MB/s eta 0:00:01\r\u001b[K     |████████▌                       | 624kB 9.2MB/s eta 0:00:01\r\u001b[K     |████████▋                       | 634kB 9.2MB/s eta 0:00:01\r\u001b[K     |████████▉                       | 645kB 9.2MB/s eta 0:00:01\r\u001b[K     |█████████                       | 655kB 9.2MB/s eta 0:00:01\r\u001b[K     |█████████                       | 665kB 9.2MB/s eta 0:00:01\r\u001b[K     |█████████▏                      | 675kB 9.2MB/s eta 0:00:01\r\u001b[K     |█████████▍                      | 686kB 9.2MB/s eta 0:00:01\r\u001b[K     |█████████▌                      | 696kB 9.2MB/s eta 0:00:01\r\u001b[K     |█████████▋                      | 706kB 9.2MB/s eta 0:00:01\r\u001b[K     |█████████▊                      | 716kB 9.2MB/s eta 0:00:01\r\u001b[K     |██████████                      | 727kB 9.2MB/s eta 0:00:01\r\u001b[K     |██████████                      | 737kB 9.2MB/s eta 0:00:01\r\u001b[K     |██████████▏                     | 747kB 9.2MB/s eta 0:00:01\r\u001b[K     |██████████▎                     | 757kB 9.2MB/s eta 0:00:01\r\u001b[K     |██████████▌                     | 768kB 9.2MB/s eta 0:00:01\r\u001b[K     |██████████▋                     | 778kB 9.2MB/s eta 0:00:01\r\u001b[K     |██████████▊                     | 788kB 9.2MB/s eta 0:00:01\r\u001b[K     |██████████▉                     | 798kB 9.2MB/s eta 0:00:01\r\u001b[K     |███████████                     | 808kB 9.2MB/s eta 0:00:01\r\u001b[K     |███████████▏                    | 819kB 9.2MB/s eta 0:00:01\r\u001b[K     |███████████▎                    | 829kB 9.2MB/s eta 0:00:01\r\u001b[K     |███████████▍                    | 839kB 9.2MB/s eta 0:00:01\r\u001b[K     |███████████▋                    | 849kB 9.2MB/s eta 0:00:01\r\u001b[K     |███████████▊                    | 860kB 9.2MB/s eta 0:00:01\r\u001b[K     |███████████▉                    | 870kB 9.2MB/s eta 0:00:01\r\u001b[K     |████████████                    | 880kB 9.2MB/s eta 0:00:01\r\u001b[K     |████████████▏                   | 890kB 9.2MB/s eta 0:00:01\r\u001b[K     |████████████▎                   | 901kB 9.2MB/s eta 0:00:01\r\u001b[K     |████████████▍                   | 911kB 9.2MB/s eta 0:00:01\r\u001b[K     |████████████▌                   | 921kB 9.2MB/s eta 0:00:01\r\u001b[K     |████████████▊                   | 931kB 9.2MB/s eta 0:00:01\r\u001b[K     |████████████▉                   | 942kB 9.2MB/s eta 0:00:01\r\u001b[K     |█████████████                   | 952kB 9.2MB/s eta 0:00:01\r\u001b[K     |█████████████                   | 962kB 9.2MB/s eta 0:00:01\r\u001b[K     |█████████████▎                  | 972kB 9.2MB/s eta 0:00:01\r\u001b[K     |█████████████▍                  | 983kB 9.2MB/s eta 0:00:01\r\u001b[K     |█████████████▌                  | 993kB 9.2MB/s eta 0:00:01\r\u001b[K     |█████████████▋                  | 1.0MB 9.2MB/s eta 0:00:01\r\u001b[K     |█████████████▉                  | 1.0MB 9.2MB/s eta 0:00:01\r\u001b[K     |██████████████                  | 1.0MB 9.2MB/s eta 0:00:01\r\u001b[K     |██████████████                  | 1.0MB 9.2MB/s eta 0:00:01\r\u001b[K     |██████████████▏                 | 1.0MB 9.2MB/s eta 0:00:01\r\u001b[K     |██████████████▍                 | 1.1MB 9.2MB/s eta 0:00:01\r\u001b[K     |██████████████▌                 | 1.1MB 9.2MB/s eta 0:00:01\r\u001b[K     |██████████████▋                 | 1.1MB 9.2MB/s eta 0:00:01\r\u001b[K     |██████████████▊                 | 1.1MB 9.2MB/s eta 0:00:01\r\u001b[K     |███████████████                 | 1.1MB 9.2MB/s eta 0:00:01\r\u001b[K     |███████████████                 | 1.1MB 9.2MB/s eta 0:00:01\r\u001b[K     |███████████████▏                | 1.1MB 9.2MB/s eta 0:00:01\r\u001b[K     |███████████████▎                | 1.1MB 9.2MB/s eta 0:00:01\r\u001b[K     |███████████████▌                | 1.1MB 9.2MB/s eta 0:00:01\r\u001b[K     |███████████████▋                | 1.1MB 9.2MB/s eta 0:00:01\r\u001b[K     |███████████████▊                | 1.2MB 9.2MB/s eta 0:00:01\r\u001b[K     |███████████████▉                | 1.2MB 9.2MB/s eta 0:00:01\r\u001b[K     |████████████████                | 1.2MB 9.2MB/s eta 0:00:01\r\u001b[K     |████████████████▏               | 1.2MB 9.2MB/s eta 0:00:01\r\u001b[K     |████████████████▎               | 1.2MB 9.2MB/s eta 0:00:01\r\u001b[K     |████████████████▌               | 1.2MB 9.2MB/s eta 0:00:01\r\u001b[K     |████████████████▋               | 1.2MB 9.2MB/s eta 0:00:01\r\u001b[K     |████████████████▊               | 1.2MB 9.2MB/s eta 0:00:01\r\u001b[K     |████████████████▉               | 1.2MB 9.2MB/s eta 0:00:01\r\u001b[K     |█████████████████               | 1.2MB 9.2MB/s eta 0:00:01\r\u001b[K     |█████████████████▏              | 1.3MB 9.2MB/s eta 0:00:01\r\u001b[K     |█████████████████▎              | 1.3MB 9.2MB/s eta 0:00:01\r\u001b[K     |█████████████████▍              | 1.3MB 9.2MB/s eta 0:00:01\r\u001b[K     |█████████████████▋              | 1.3MB 9.2MB/s eta 0:00:01\r\u001b[K     |█████████████████▊              | 1.3MB 9.2MB/s eta 0:00:01\r\u001b[K     |█████████████████▉              | 1.3MB 9.2MB/s eta 0:00:01\r\u001b[K     |██████████████████              | 1.3MB 9.2MB/s eta 0:00:01\r\u001b[K     |██████████████████▏             | 1.3MB 9.2MB/s eta 0:00:01\r\u001b[K     |██████████████████▎             | 1.3MB 9.2MB/s eta 0:00:01\r\u001b[K     |██████████████████▍             | 1.4MB 9.2MB/s eta 0:00:01\r\u001b[K     |██████████████████▌             | 1.4MB 9.2MB/s eta 0:00:01\r\u001b[K     |██████████████████▊             | 1.4MB 9.2MB/s eta 0:00:01\r\u001b[K     |██████████████████▉             | 1.4MB 9.2MB/s eta 0:00:01\r\u001b[K     |███████████████████             | 1.4MB 9.2MB/s eta 0:00:01\r\u001b[K     |███████████████████             | 1.4MB 9.2MB/s eta 0:00:01\r\u001b[K     |███████████████████▎            | 1.4MB 9.2MB/s eta 0:00:01\r\u001b[K     |███████████████████▍            | 1.4MB 9.2MB/s eta 0:00:01\r\u001b[K     |███████████████████▌            | 1.4MB 9.2MB/s eta 0:00:01\r\u001b[K     |███████████████████▋            | 1.4MB 9.2MB/s eta 0:00:01\r\u001b[K     |███████████████████▉            | 1.5MB 9.2MB/s eta 0:00:01\r\u001b[K     |████████████████████            | 1.5MB 9.2MB/s eta 0:00:01\r\u001b[K     |████████████████████            | 1.5MB 9.2MB/s eta 0:00:01\r\u001b[K     |████████████████████▏           | 1.5MB 9.2MB/s eta 0:00:01\r\u001b[K     |████████████████████▍           | 1.5MB 9.2MB/s eta 0:00:01\r\u001b[K     |████████████████████▌           | 1.5MB 9.2MB/s eta 0:00:01\r\u001b[K     |████████████████████▋           | 1.5MB 9.2MB/s eta 0:00:01\r\u001b[K     |████████████████████▊           | 1.5MB 9.2MB/s eta 0:00:01\r\u001b[K     |█████████████████████           | 1.5MB 9.2MB/s eta 0:00:01\r\u001b[K     |█████████████████████           | 1.5MB 9.2MB/s eta 0:00:01\r\u001b[K     |█████████████████████▏          | 1.6MB 9.2MB/s eta 0:00:01\r\u001b[K     |█████████████████████▎          | 1.6MB 9.2MB/s eta 0:00:01\r\u001b[K     |█████████████████████▌          | 1.6MB 9.2MB/s eta 0:00:01\r\u001b[K     |█████████████████████▋          | 1.6MB 9.2MB/s eta 0:00:01\r\u001b[K     |█████████████████████▊          | 1.6MB 9.2MB/s eta 0:00:01\r\u001b[K     |█████████████████████▉          | 1.6MB 9.2MB/s eta 0:00:01\r\u001b[K     |██████████████████████          | 1.6MB 9.2MB/s eta 0:00:01\r\u001b[K     |██████████████████████▏         | 1.6MB 9.2MB/s eta 0:00:01\r\u001b[K     |██████████████████████▎         | 1.6MB 9.2MB/s eta 0:00:01\r\u001b[K     |██████████████████████▍         | 1.6MB 9.2MB/s eta 0:00:01\r\u001b[K     |██████████████████████▋         | 1.7MB 9.2MB/s eta 0:00:01\r\u001b[K     |██████████████████████▊         | 1.7MB 9.2MB/s eta 0:00:01\r\u001b[K     |██████████████████████▉         | 1.7MB 9.2MB/s eta 0:00:01\r\u001b[K     |███████████████████████         | 1.7MB 9.2MB/s eta 0:00:01\r\u001b[K     |███████████████████████▏        | 1.7MB 9.2MB/s eta 0:00:01\r\u001b[K     |███████████████████████▎        | 1.7MB 9.2MB/s eta 0:00:01\r\u001b[K     |███████████████████████▍        | 1.7MB 9.2MB/s eta 0:00:01\r\u001b[K     |███████████████████████▌        | 1.7MB 9.2MB/s eta 0:00:01\r\u001b[K     |███████████████████████▊        | 1.7MB 9.2MB/s eta 0:00:01\r\u001b[K     |███████████████████████▉        | 1.8MB 9.2MB/s eta 0:00:01\r\u001b[K     |████████████████████████        | 1.8MB 9.2MB/s eta 0:00:01\r\u001b[K     |████████████████████████        | 1.8MB 9.2MB/s eta 0:00:01\r\u001b[K     |████████████████████████▎       | 1.8MB 9.2MB/s eta 0:00:01\r\u001b[K     |████████████████████████▍       | 1.8MB 9.2MB/s eta 0:00:01\r\u001b[K     |████████████████████████▌       | 1.8MB 9.2MB/s eta 0:00:01\r\u001b[K     |████████████████████████▊       | 1.8MB 9.2MB/s eta 0:00:01\r\u001b[K     |████████████████████████▉       | 1.8MB 9.2MB/s eta 0:00:01\r\u001b[K     |█████████████████████████       | 1.8MB 9.2MB/s eta 0:00:01\r\u001b[K     |█████████████████████████       | 1.8MB 9.2MB/s eta 0:00:01\r\u001b[K     |█████████████████████████▎      | 1.9MB 9.2MB/s eta 0:00:01\r\u001b[K     |█████████████████████████▍      | 1.9MB 9.2MB/s eta 0:00:01\r\u001b[K     |█████████████████████████▌      | 1.9MB 9.2MB/s eta 0:00:01\r\u001b[K     |█████████████████████████▋      | 1.9MB 9.2MB/s eta 0:00:01\r\u001b[K     |█████████████████████████▉      | 1.9MB 9.2MB/s eta 0:00:01\r\u001b[K     |██████████████████████████      | 1.9MB 9.2MB/s eta 0:00:01\r\u001b[K     |██████████████████████████      | 1.9MB 9.2MB/s eta 0:00:01\r\u001b[K     |██████████████████████████▏     | 1.9MB 9.2MB/s eta 0:00:01\r\u001b[K     |██████████████████████████▍     | 1.9MB 9.2MB/s eta 0:00:01\r\u001b[K     |██████████████████████████▌     | 1.9MB 9.2MB/s eta 0:00:01\r\u001b[K     |██████████████████████████▋     | 2.0MB 9.2MB/s eta 0:00:01\r\u001b[K     |██████████████████████████▊     | 2.0MB 9.2MB/s eta 0:00:01\r\u001b[K     |███████████████████████████     | 2.0MB 9.2MB/s eta 0:00:01\r\u001b[K     |███████████████████████████     | 2.0MB 9.2MB/s eta 0:00:01\r\u001b[K     |███████████████████████████▏    | 2.0MB 9.2MB/s eta 0:00:01\r\u001b[K     |███████████████████████████▎    | 2.0MB 9.2MB/s eta 0:00:01\r\u001b[K     |███████████████████████████▌    | 2.0MB 9.2MB/s eta 0:00:01\r\u001b[K     |███████████████████████████▋    | 2.0MB 9.2MB/s eta 0:00:01\r\u001b[K     |███████████████████████████▊    | 2.0MB 9.2MB/s eta 0:00:01\r\u001b[K     |███████████████████████████▉    | 2.0MB 9.2MB/s eta 0:00:01\r\u001b[K     |████████████████████████████    | 2.1MB 9.2MB/s eta 0:00:01\r\u001b[K     |████████████████████████████▏   | 2.1MB 9.2MB/s eta 0:00:01\r\u001b[K     |████████████████████████████▎   | 2.1MB 9.2MB/s eta 0:00:01\r\u001b[K     |████████████████████████████▍   | 2.1MB 9.2MB/s eta 0:00:01\r\u001b[K     |████████████████████████████▋   | 2.1MB 9.2MB/s eta 0:00:01\r\u001b[K     |████████████████████████████▊   | 2.1MB 9.2MB/s eta 0:00:01\r\u001b[K     |████████████████████████████▉   | 2.1MB 9.2MB/s eta 0:00:01\r\u001b[K     |█████████████████████████████   | 2.1MB 9.2MB/s eta 0:00:01\r\u001b[K     |█████████████████████████████▏  | 2.1MB 9.2MB/s eta 0:00:01\r\u001b[K     |█████████████████████████████▎  | 2.2MB 9.2MB/s eta 0:00:01\r\u001b[K     |█████████████████████████████▍  | 2.2MB 9.2MB/s eta 0:00:01\r\u001b[K     |█████████████████████████████▌  | 2.2MB 9.2MB/s eta 0:00:01\r\u001b[K     |█████████████████████████████▊  | 2.2MB 9.2MB/s eta 0:00:01\r\u001b[K     |█████████████████████████████▉  | 2.2MB 9.2MB/s eta 0:00:01\r\u001b[K     |██████████████████████████████  | 2.2MB 9.2MB/s eta 0:00:01\r\u001b[K     |██████████████████████████████  | 2.2MB 9.2MB/s eta 0:00:01\r\u001b[K     |██████████████████████████████▎ | 2.2MB 9.2MB/s eta 0:00:01\r\u001b[K     |██████████████████████████████▍ | 2.2MB 9.2MB/s eta 0:00:01\r\u001b[K     |██████████████████████████████▌ | 2.2MB 9.2MB/s eta 0:00:01\r\u001b[K     |██████████████████████████████▋ | 2.3MB 9.2MB/s eta 0:00:01\r\u001b[K     |██████████████████████████████▉ | 2.3MB 9.2MB/s eta 0:00:01\r\u001b[K     |███████████████████████████████ | 2.3MB 9.2MB/s eta 0:00:01\r\u001b[K     |███████████████████████████████ | 2.3MB 9.2MB/s eta 0:00:01\r\u001b[K     |███████████████████████████████▏| 2.3MB 9.2MB/s eta 0:00:01\r\u001b[K     |███████████████████████████████▍| 2.3MB 9.2MB/s eta 0:00:01\r\u001b[K     |███████████████████████████████▌| 2.3MB 9.2MB/s eta 0:00:01\r\u001b[K     |███████████████████████████████▋| 2.3MB 9.2MB/s eta 0:00:01\r\u001b[K     |███████████████████████████████▊| 2.3MB 9.2MB/s eta 0:00:01\r\u001b[K     |████████████████████████████████| 2.3MB 9.2MB/s eta 0:00:01\r\u001b[K     |████████████████████████████████| 2.4MB 9.2MB/s \n",
            "\u001b[?25hRequirement already satisfied: numpy>=1.14.0 in /usr/local/lib/python3.6/dist-packages (from dgl) (1.17.4)\n",
            "Requirement already satisfied: scipy>=1.1.0 in /usr/local/lib/python3.6/dist-packages (from dgl) (1.3.3)\n",
            "Requirement already satisfied: networkx>=2.1 in /usr/local/lib/python3.6/dist-packages (from dgl) (2.4)\n",
            "Requirement already satisfied: decorator>=4.3.0 in /usr/local/lib/python3.6/dist-packages (from networkx>=2.1->dgl) (4.4.1)\n",
            "Installing collected packages: dgl\n",
            "Successfully installed dgl-0.4.1\n"
          ],
          "name": "stdout"
        }
      ]
    },
    {
      "cell_type": "code",
      "metadata": {
        "id": "sYKg_-GxqIC1",
        "colab_type": "code",
        "outputId": "e3b24a48-92eb-4121-e2b6-01d5174e626d",
        "colab": {
          "base_uri": "https://localhost:8080/",
          "height": 264
        }
      },
      "source": [
        "from dgl.data import MiniGCDataset\n",
        "import matplotlib.pyplot as plt\n",
        "import networkx as nx\n",
        "import dgl\n",
        "\n",
        "#create a graph\n",
        "dataset = MiniGCDataset(80, 10, 20)\n",
        "graph, label = dataset[0]\n",
        "fig, ax = plt.subplots()\n",
        "nx.draw(graph.to_networkx(), ax=ax)\n",
        "ax.set_title('Class: {:d}'.format(label))\n",
        "plt.show()"
      ],
      "execution_count": 0,
      "outputs": [
        {
          "output_type": "display_data",
          "data": {
            "image/png": "[encoded data removed]",
            "text/plain": [
              "<Figure size 432x288 with 1 Axes>"
            ]
          },
          "metadata": {
            "tags": []
          }
        }
      ]
    },
    {
      "cell_type": "code",
      "metadata": {
        "id": "4yBwuDVtqP3P",
        "colab_type": "code",
        "colab": {}
      },
      "source": [
        "def collate(samples):\n",
        "    #to pack multiple samples in MiniGCDataset into a mini-batch.\n",
        "    graphs, labels = map(list, zip(*samples))\n",
        "    batched_graph = dgl.batch(graphs)\n",
        "    return batched_graph, torch.tensor(labels)"
      ],
      "execution_count": 0,
      "outputs": []
    },
    {
      "cell_type": "code",
      "metadata": {
        "id": "KJ-o2ukTU-SZ",
        "colab_type": "code",
        "colab": {}
      },
      "source": [
        "import dgl.function as fn\n",
        "import torch\n",
        "import torch.nn as nn\n",
        "msg = fn.copy_src(src='h', out='m')"
      ],
      "execution_count": 0,
      "outputs": []
    },
    {
      "cell_type": "code",
      "metadata": {
        "id": "wjYV1PxBVE_t",
        "colab_type": "code",
        "colab": {}
      },
      "source": [
        "def reduce(nodes):\n",
        "    accum = torch.mean(nodes.mailbox['m'], 1)\n",
        "    return {'h': accum}"
      ],
      "execution_count": 0,
      "outputs": []
    },
    {
      "cell_type": "code",
      "metadata": {
        "id": "q4soUp3cVLuc",
        "colab_type": "code",
        "colab": {}
      },
      "source": [
        "class NodeApplyModule(nn.Module):\n",
        "    def __init__(self, in_feats, out_feats, activation):\n",
        "        super(NodeApplyModule, self).__init__()\n",
        "        self.linear = nn.Linear(in_feats, out_feats)\n",
        "        self.activation = activation\n",
        "\n",
        "    def forward(self, node):\n",
        "        h = self.linear(node.data['h'])\n",
        "        h = self.activation(h)\n",
        "        return {'h' : h}"
      ],
      "execution_count": 0,
      "outputs": []
    },
    {
      "cell_type": "code",
      "metadata": {
        "id": "kcy46XSTVcG6",
        "colab_type": "code",
        "colab": {}
      },
      "source": [
        "class GCNLayer(nn.Module):\n",
        "    def __init__(self, in_feats, out_feats, activation):\n",
        "        super(GCNLayer, self).__init__()\n",
        "        self.apply_mod = NodeApplyModule(in_feats, out_feats, activation)\n",
        "\n",
        "    def forward(self, g, feature):\n",
        "        g.ndata['h'] = feature\n",
        "        g.update_all(msg, reduce)\n",
        "        g.apply_nodes(func=self.apply_mod)\n",
        "        return g.ndata.pop('h')"
      ],
      "execution_count": 0,
      "outputs": []
    },
    {
      "cell_type": "code",
      "metadata": {
        "id": "rCacGqcyWBxX",
        "colab_type": "code",
        "colab": {}
      },
      "source": [
        "import torch.nn.functional as F\n",
        "\n",
        "class Classifier(nn.Module):\n",
        "    def __init__(self, in_dim, hidden_dim, n_classes):\n",
        "        super(Classifier, self).__init__()\n",
        "        self.layers = nn.ModuleList([\n",
        "            GCNLayer(in_dim, hidden_dim, F.relu),\n",
        "            GCNLayer(hidden_dim, hidden_dim, F.relu)])\n",
        "        self.classify = nn.Linear(hidden_dim, n_classes)\n",
        "\n",
        "    def forward(self, g):\n",
        "        h = g.in_degrees().view(-1, 1).float()\n",
        "        for conv in self.layers:\n",
        "            h = conv(g, h)\n",
        "        g.ndata['h'] = h\n",
        "        graph_repr = dgl.mean_nodes(g, 'h')\n",
        "        return self.classify(graph_repr)"
      ],
      "execution_count": 0,
      "outputs": []
    },
    {
      "cell_type": "code",
      "metadata": {
        "id": "vYiJgTa0XTVU",
        "colab_type": "code",
        "colab": {}
      },
      "source": [
        "import torch.optim as optim\n",
        "from torch.utils.data import DataLoader\n",
        "\n",
        "trainset = MiniGCDataset(320, 10, 20)\n",
        "testset = MiniGCDataset(80, 10, 20)\n",
        "data_loader = DataLoader(trainset, batch_size=32, shuffle=True,\n",
        "                         collate_fn=collate)"
      ],
      "execution_count": 0,
      "outputs": []
    },
    {
      "cell_type": "code",
      "metadata": {
        "id": "zWmwhgJRXYV8",
        "colab_type": "code",
        "outputId": "058282a7-a33d-418c-f2a1-66f30759a5df",
        "colab": {
          "base_uri": "https://localhost:8080/",
          "height": 290
        }
      },
      "source": [
        "model = Classifier(1, 256, trainset.num_classes)\n",
        "loss_func = nn.CrossEntropyLoss()\n",
        "optimizer = optim.Adam(model.parameters(), lr=0.001)\n",
        "model.train()"
      ],
      "execution_count": 0,
      "outputs": [
        {
          "output_type": "execute_result",
          "data": {
            "text/plain": [
              "Classifier(\n",
              "  (layers): ModuleList(\n",
              "    (0): GCNLayer(\n",
              "      (apply_mod): NodeApplyModule(\n",
              "        (linear): Linear(in_features=1, out_features=256, bias=True)\n",
              "      )\n",
              "    )\n",
              "    (1): GCNLayer(\n",
              "      (apply_mod): NodeApplyModule(\n",
              "        (linear): Linear(in_features=256, out_features=256, bias=True)\n",
              "      )\n",
              "    )\n",
              "  )\n",
              "  (classify): Linear(in_features=256, out_features=8, bias=True)\n",
              ")"
            ]
          },
          "metadata": {
            "tags": []
          },
          "execution_count": 25
        }
      ]
    },
    {
      "cell_type": "code",
      "metadata": {
        "id": "bicT-XTPYiL2",
        "colab_type": "code",
        "outputId": "80f4dd6e-94f3-46be-b510-024025e00132",
        "colab": {
          "base_uri": "https://localhost:8080/",
          "height": 1000
        }
      },
      "source": [
        "epoch_losses = []\n",
        "for epoch in range(80):\n",
        "    epoch_loss = 0\n",
        "    for iter, (bg, label) in enumerate(data_loader):\n",
        "        prediction = model(bg)\n",
        "        loss = loss_func(prediction, label)\n",
        "        optimizer.zero_grad()\n",
        "        loss.backward()\n",
        "        optimizer.step()\n",
        "        epoch_loss += loss.detach().item()\n",
        "    epoch_loss /= (iter + 1)\n",
        "    print('Epoch {}, loss {:.4f}'.format(epoch, epoch_loss))\n",
        "    epoch_losses.append(epoch_loss)"
      ],
      "execution_count": 0,
      "outputs": [
        {
          "output_type": "stream",
          "text": [
            "Epoch 0, loss 2.1593\n",
            "Epoch 1, loss 1.9688\n",
            "Epoch 2, loss 1.8584\n",
            "Epoch 3, loss 1.7765\n",
            "Epoch 4, loss 1.6813\n",
            "Epoch 5, loss 1.5912\n",
            "Epoch 6, loss 1.5267\n",
            "Epoch 7, loss 1.4538\n",
            "Epoch 8, loss 1.3824\n",
            "Epoch 9, loss 1.3046\n",
            "Epoch 10, loss 1.2823\n",
            "Epoch 11, loss 1.2057\n",
            "Epoch 12, loss 1.1526\n",
            "Epoch 13, loss 1.1038\n",
            "Epoch 14, loss 1.0569\n",
            "Epoch 15, loss 1.0466\n",
            "Epoch 16, loss 1.0159\n",
            "Epoch 17, loss 0.9858\n",
            "Epoch 18, loss 0.9613\n",
            "Epoch 19, loss 0.9442\n",
            "Epoch 20, loss 0.9356\n",
            "Epoch 21, loss 0.8905\n",
            "Epoch 22, loss 0.8933\n",
            "Epoch 23, loss 0.8892\n",
            "Epoch 24, loss 0.8505\n",
            "Epoch 25, loss 0.8193\n",
            "Epoch 26, loss 0.8280\n",
            "Epoch 27, loss 0.8405\n",
            "Epoch 28, loss 0.8072\n",
            "Epoch 29, loss 0.8244\n",
            "Epoch 30, loss 0.8190\n",
            "Epoch 31, loss 0.7881\n",
            "Epoch 32, loss 0.7644\n",
            "Epoch 33, loss 0.7475\n",
            "Epoch 34, loss 0.7349\n",
            "Epoch 35, loss 0.7397\n",
            "Epoch 36, loss 0.7346\n",
            "Epoch 37, loss 0.7280\n",
            "Epoch 38, loss 0.7000\n",
            "Epoch 39, loss 0.6950\n",
            "Epoch 40, loss 0.7284\n",
            "Epoch 41, loss 0.7235\n",
            "Epoch 42, loss 0.6691\n",
            "Epoch 43, loss 0.6515\n",
            "Epoch 44, loss 0.6747\n",
            "Epoch 45, loss 0.6645\n",
            "Epoch 46, loss 0.6422\n",
            "Epoch 47, loss 0.6249\n",
            "Epoch 48, loss 0.6196\n",
            "Epoch 49, loss 0.6279\n",
            "Epoch 50, loss 0.6206\n",
            "Epoch 51, loss 0.5959\n",
            "Epoch 52, loss 0.6230\n",
            "Epoch 53, loss 0.6220\n",
            "Epoch 54, loss 0.6094\n",
            "Epoch 55, loss 0.5958\n",
            "Epoch 56, loss 0.6023\n",
            "Epoch 57, loss 0.5704\n",
            "Epoch 58, loss 0.5707\n",
            "Epoch 59, loss 0.5637\n",
            "Epoch 60, loss 0.5658\n",
            "Epoch 61, loss 0.5393\n",
            "Epoch 62, loss 0.5343\n",
            "Epoch 63, loss 0.5232\n",
            "Epoch 64, loss 0.5077\n",
            "Epoch 65, loss 0.4986\n",
            "Epoch 66, loss 0.5006\n",
            "Epoch 67, loss 0.4978\n",
            "Epoch 68, loss 0.4978\n",
            "Epoch 69, loss 0.4954\n",
            "Epoch 70, loss 0.4867\n",
            "Epoch 71, loss 0.4872\n",
            "Epoch 72, loss 0.4716\n",
            "Epoch 73, loss 0.4734\n",
            "Epoch 74, loss 0.4897\n",
            "Epoch 75, loss 0.4684\n",
            "Epoch 76, loss 0.4795\n",
            "Epoch 77, loss 0.4660\n",
            "Epoch 78, loss 0.4511\n",
            "Epoch 79, loss 0.4544\n"
          ],
          "name": "stdout"
        }
      ]
    }
  ]
}